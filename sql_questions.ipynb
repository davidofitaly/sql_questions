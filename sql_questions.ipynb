{
  "nbformat": 4,
  "nbformat_minor": 0,
  "metadata": {
    "colab": {
      "provenance": [],
      "authorship_tag": "ABX9TyPzS+mCWaqHX3OzO3KuG20w",
      "include_colab_link": true
    },
    "kernelspec": {
      "name": "python3",
      "display_name": "Python 3"
    },
    "language_info": {
      "name": "python"
    }
  },
  "cells": [
    {
      "cell_type": "markdown",
      "metadata": {
        "id": "view-in-github",
        "colab_type": "text"
      },
      "source": [
        "<a href=\"https://colab.research.google.com/github/davidofitaly/sql_questions/blob/main/sql_questions.ipynb\" target=\"_parent\"><img src=\"https://colab.research.google.com/assets/colab-badge.svg\" alt=\"Open In Colab\"/></a>"
      ]
    },
    {
      "cell_type": "markdown",
      "source": [
        "#1. ***PODSTAWOWE POJĘCIA SQL***"
      ],
      "metadata": {
        "id": "euKIiQOxMeHA"
      }
    },
    {
      "cell_type": "markdown",
      "source": [
        "###1. Co to jest SQL?"
      ],
      "metadata": {
        "id": "RmelSJ1kMi6h"
      }
    },
    {
      "cell_type": "markdown",
      "source": [
        "SQL (Structured Query Language) jest językiem programowania służącym do zarządzania danymi w relacyjnych systemach zarządzania bazami danych (RDBMS)."
      ],
      "metadata": {
        "id": "75YA0KPlMnbq"
      }
    },
    {
      "cell_type": "markdown",
      "source": [
        "###2. Co to jest baza danych?"
      ],
      "metadata": {
        "id": "6fpi2RdIMqrj"
      }
    },
    {
      "cell_type": "markdown",
      "source": [
        "Baza danych to zorganizowany zbiór danych, które są przechowywane i zarządzane w sposób umożliwiający łatwy dostęp, modyfikację i zarządzanie nimi."
      ],
      "metadata": {
        "id": "ZnUR56g7MtUG"
      }
    }
  ]
}