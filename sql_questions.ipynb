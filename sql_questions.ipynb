{
  "nbformat": 4,
  "nbformat_minor": 0,
  "metadata": {
    "colab": {
      "provenance": [],
      "authorship_tag": "ABX9TyPeR7C1CSzxQyeN1adJwgvy",
      "include_colab_link": true
    },
    "kernelspec": {
      "name": "python3",
      "display_name": "Python 3"
    },
    "language_info": {
      "name": "python"
    }
  },
  "cells": [
    {
      "cell_type": "markdown",
      "metadata": {
        "id": "view-in-github",
        "colab_type": "text"
      },
      "source": [
        "<a href=\"https://colab.research.google.com/github/davidofitaly/sql_questions/blob/main/sql_questions.ipynb\" target=\"_parent\"><img src=\"https://colab.research.google.com/assets/colab-badge.svg\" alt=\"Open In Colab\"/></a>"
      ]
    },
    {
      "cell_type": "markdown",
      "source": [
        "#1. ***PODSTAWOWE POJĘCIA SQL***"
      ],
      "metadata": {
        "id": "euKIiQOxMeHA"
      }
    },
    {
      "cell_type": "markdown",
      "source": [
        "###1. Co to jest SQL?"
      ],
      "metadata": {
        "id": "RmelSJ1kMi6h"
      }
    },
    {
      "cell_type": "markdown",
      "source": [
        "SQL (Structured Query Language) jest językiem programowania służącym do zarządzania danymi w relacyjnych systemach zarządzania bazami danych (RDBMS)."
      ],
      "metadata": {
        "id": "75YA0KPlMnbq"
      }
    },
    {
      "cell_type": "markdown",
      "source": [
        "###2. Co to jest baza danych?"
      ],
      "metadata": {
        "id": "6fpi2RdIMqrj"
      }
    },
    {
      "cell_type": "markdown",
      "source": [
        "Baza danych to zorganizowany zbiór danych, które są przechowywane i zarządzane w sposób umożliwiający łatwy dostęp, modyfikację i zarządzanie nimi."
      ],
      "metadata": {
        "id": "ZnUR56g7MtUG"
      }
    },
    {
      "cell_type": "markdown",
      "source": [
        "###3. Czym różni się baza danych SQL od bazy danych NoSQL?"
      ],
      "metadata": {
        "id": "m0mXyC_aXrXc"
      }
    },
    {
      "cell_type": "markdown",
      "source": [
        "Baza danych SQL jest relacyjną bazą danych, która przechowuje dane w tabelach z relacjami między nimi, natomiast baza danych NoSQL jest nierelacyjna i przechowuje dane w innych formatach, takich jak dokumenty, grafy, kolumny itp."
      ],
      "metadata": {
        "id": "p0jI1nnQXtCj"
      }
    },
    {
      "cell_type": "markdown",
      "source": [
        "###4. Co to jest klauzula WHERE w SQL? Jakie operatory logiczne można użyć w tej klauzuli?"
      ],
      "metadata": {
        "id": "9XdPEAUbXwCa"
      }
    },
    {
      "cell_type": "markdown",
      "source": [
        "Klauzula WHERE służy do filtrowania wyników zapytania na podstawie określonych warunków. Można w niej używać operatorów takich jak =, <> (różne od), >, <, >=, <=, BETWEEN, LIKE, IN, AND, OR, NOT."
      ],
      "metadata": {
        "id": "viFFo0D6X1JT"
      }
    },
    {
      "cell_type": "markdown",
      "source": [
        "###5. Co to jest indeks w bazie danych SQL? Jakie są jego zalety i wady?"
      ],
      "metadata": {
        "id": "5dgqpv7cX3HK"
      }
    },
    {
      "cell_type": "markdown",
      "source": [
        "Indeks w bazie danych SQL jest strukturą, która przyspiesza wyszukiwanie i sortowanie danych w tabeli poprzez tworzenie uporządkowanego zbioru wartości. Zalety to szybsze wyszukiwanie, wady to zwiększony rozmiar bazy danych i czas potrzebny na aktualizację indeksów przy modyfikacji danych."
      ],
      "metadata": {
        "id": "MQ_rdM4IX536"
      }
    },
    {
      "cell_type": "markdown",
      "source": [
        "#2. ***ZAPYTANIA I OPERACJE***"
      ],
      "metadata": {
        "id": "jwmbxAR8YBP4"
      }
    },
    {
      "cell_type": "markdown",
      "source": [
        "###1. Wyjaśnij różnicę między INNER JOIN, LEFT JOIN i RIGHT JOIN."
      ],
      "metadata": {
        "id": "DGVLSw64YJql"
      }
    },
    {
      "cell_type": "markdown",
      "source": [
        "INNER JOIN zwraca tylko rekordy, które mają dopasowanie w obu tabelach.\n",
        "\n",
        "LEFT JOIN zwraca wszystkie rekordy z lewej tabeli oraz pasujące rekordy z prawej tabeli.\n",
        "\n",
        "RIGHT JOIN zwraca wszystkie rekordy z prawej tabeli oraz pasujące rekordy z lewej tabeli."
      ],
      "metadata": {
        "id": "l8UjRR5mYPNu"
      }
    },
    {
      "cell_type": "markdown",
      "source": [
        "###2. Jak używasz GROUP BY w zapytaniach SQL? Kiedy jest to użyteczne?"
      ],
      "metadata": {
        "id": "kMHR776wYUae"
      }
    },
    {
      "cell_type": "markdown",
      "source": [
        "GROUP BY jest używane do grupowania wyników na podstawie określonych kolumn. Jest to przydatne do obliczania agregatów (np. SUM, AVG) dla każdej grupy danych."
      ],
      "metadata": {
        "id": "DFMdJl8NYWSr"
      }
    },
    {
      "cell_type": "markdown",
      "source": [
        "###3. Jakie są funkcje agregujące w SQL? Podaj przykłady."
      ],
      "metadata": {
        "id": "kEL0jjZ0YcWg"
      }
    },
    {
      "cell_type": "markdown",
      "source": [
        "Funkcje agregujące w SQL to funkcje takie jak SUM, AVG, COUNT, MIN, MAX. Na przykład: SELECT SUM(column_name) FROM table_name;."
      ],
      "metadata": {
        "id": "s93kNz1UYfPG"
      }
    },
    {
      "cell_type": "markdown",
      "source": [
        "###4. Co to jest normalizacja danych i dlaczego jest ważna?"
      ],
      "metadata": {
        "id": "6abwkZfQYkRU"
      }
    },
    {
      "cell_type": "markdown",
      "source": [
        "Normalizacja danych jest procesem organizacji danych w bazie danych w taki sposób, aby uniknąć powtórzeń i minimalizować niepożądane zmiany w strukturze bazy danych, co prowadzi do poprawy spójności danych."
      ],
      "metadata": {
        "id": "WlFuXug4YmL8"
      }
    },
    {
      "cell_type": "markdown",
      "source": [
        "###5. Jakie typy danych można przechowywać w SQL?"
      ],
      "metadata": {
        "id": "wy-s8bOLYpQs"
      }
    },
    {
      "cell_type": "markdown",
      "source": [
        "Typy danych w SQL mogą obejmować INTEGER, FLOAT, CHARACTER, VARCHAR, DATE, TIME, BOOLEAN, BLOB (Binary Large Object) i inne, w zależności od konkretnego systemu baz danych."
      ],
      "metadata": {
        "id": "Q6Hcl-ysYsDb"
      }
    }
  ]
}