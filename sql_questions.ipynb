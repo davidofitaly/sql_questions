{
  "nbformat": 4,
  "nbformat_minor": 0,
  "metadata": {
    "colab": {
      "provenance": [],
      "authorship_tag": "ABX9TyPQingvIixFSMPM28jtcN44",
      "include_colab_link": true
    },
    "kernelspec": {
      "name": "python3",
      "display_name": "Python 3"
    },
    "language_info": {
      "name": "python"
    }
  },
  "cells": [
    {
      "cell_type": "markdown",
      "metadata": {
        "id": "view-in-github",
        "colab_type": "text"
      },
      "source": [
        "<a href=\"https://colab.research.google.com/github/davidofitaly/sql_questions/blob/main/sql_questions.ipynb\" target=\"_parent\"><img src=\"https://colab.research.google.com/assets/colab-badge.svg\" alt=\"Open In Colab\"/></a>"
      ]
    },
    {
      "cell_type": "markdown",
      "source": [
        "#1. ***PODSTAWOWE POJĘCIA SQL***"
      ],
      "metadata": {
        "id": "euKIiQOxMeHA"
      }
    },
    {
      "cell_type": "markdown",
      "source": [
        "###1. Co to jest SQL?"
      ],
      "metadata": {
        "id": "RmelSJ1kMi6h"
      }
    },
    {
      "cell_type": "markdown",
      "source": [
        "SQL (Structured Query Language) jest językiem programowania służącym do zarządzania danymi w relacyjnych systemach zarządzania bazami danych (RDBMS)."
      ],
      "metadata": {
        "id": "75YA0KPlMnbq"
      }
    },
    {
      "cell_type": "markdown",
      "source": [
        "###2. Co to jest baza danych?"
      ],
      "metadata": {
        "id": "6fpi2RdIMqrj"
      }
    },
    {
      "cell_type": "markdown",
      "source": [
        "Baza danych to zorganizowany zbiór danych, które są przechowywane i zarządzane w sposób umożliwiający łatwy dostęp, modyfikację i zarządzanie nimi."
      ],
      "metadata": {
        "id": "ZnUR56g7MtUG"
      }
    },
    {
      "cell_type": "markdown",
      "source": [
        "###3. Czym różni się baza danych SQL od bazy danych NoSQL?"
      ],
      "metadata": {
        "id": "m0mXyC_aXrXc"
      }
    },
    {
      "cell_type": "markdown",
      "source": [
        "Baza danych SQL jest relacyjną bazą danych, która przechowuje dane w tabelach z relacjami między nimi, natomiast baza danych NoSQL jest nierelacyjna i przechowuje dane w innych formatach, takich jak dokumenty, grafy, kolumny itp."
      ],
      "metadata": {
        "id": "p0jI1nnQXtCj"
      }
    },
    {
      "cell_type": "markdown",
      "source": [
        "###4. Co to jest klauzula WHERE w SQL? Jakie operatory logiczne można użyć w tej klauzuli?"
      ],
      "metadata": {
        "id": "9XdPEAUbXwCa"
      }
    },
    {
      "cell_type": "markdown",
      "source": [
        "Klauzula WHERE służy do filtrowania wyników zapytania na podstawie określonych warunków. Można w niej używać operatorów takich jak =, <> (różne od), >, <, >=, <=, BETWEEN, LIKE, IN, AND, OR, NOT."
      ],
      "metadata": {
        "id": "viFFo0D6X1JT"
      }
    },
    {
      "cell_type": "markdown",
      "source": [
        "###5. Co to jest indeks w bazie danych SQL? Jakie są jego zalety i wady?"
      ],
      "metadata": {
        "id": "5dgqpv7cX3HK"
      }
    },
    {
      "cell_type": "markdown",
      "source": [
        "Indeks w bazie danych SQL jest strukturą, która przyspiesza wyszukiwanie i sortowanie danych w tabeli poprzez tworzenie uporządkowanego zbioru wartości. Zalety to szybsze wyszukiwanie, wady to zwiększony rozmiar bazy danych i czas potrzebny na aktualizację indeksów przy modyfikacji danych."
      ],
      "metadata": {
        "id": "MQ_rdM4IX536"
      }
    },
    {
      "cell_type": "markdown",
      "source": [
        "#2. ***ZAPYTANIA I OPERACJE***"
      ],
      "metadata": {
        "id": "jwmbxAR8YBP4"
      }
    },
    {
      "cell_type": "markdown",
      "source": [
        "###1. Wyjaśnij różnicę między INNER JOIN, LEFT JOIN i RIGHT JOIN."
      ],
      "metadata": {
        "id": "DGVLSw64YJql"
      }
    },
    {
      "cell_type": "markdown",
      "source": [
        "INNER JOIN zwraca tylko rekordy, które mają dopasowanie w obu tabelach.\n",
        "\n",
        "LEFT JOIN zwraca wszystkie rekordy z lewej tabeli oraz pasujące rekordy z prawej tabeli.\n",
        "\n",
        "RIGHT JOIN zwraca wszystkie rekordy z prawej tabeli oraz pasujące rekordy z lewej tabeli."
      ],
      "metadata": {
        "id": "l8UjRR5mYPNu"
      }
    },
    {
      "cell_type": "markdown",
      "source": [
        "###2. Jak używasz GROUP BY w zapytaniach SQL? Kiedy jest to użyteczne?"
      ],
      "metadata": {
        "id": "kMHR776wYUae"
      }
    },
    {
      "cell_type": "markdown",
      "source": [
        "GROUP BY jest używane do grupowania wyników na podstawie określonych kolumn. Jest to przydatne do obliczania agregatów (np. SUM, AVG) dla każdej grupy danych."
      ],
      "metadata": {
        "id": "DFMdJl8NYWSr"
      }
    },
    {
      "cell_type": "markdown",
      "source": [
        "###3. Jakie są funkcje agregujące w SQL? Podaj przykłady."
      ],
      "metadata": {
        "id": "kEL0jjZ0YcWg"
      }
    },
    {
      "cell_type": "markdown",
      "source": [
        "Funkcje agregujące w SQL to funkcje takie jak SUM, AVG, COUNT, MIN, MAX. Na przykład: SELECT SUM(column_name) FROM table_name;."
      ],
      "metadata": {
        "id": "s93kNz1UYfPG"
      }
    },
    {
      "cell_type": "markdown",
      "source": [
        "###4. Co to jest normalizacja danych i dlaczego jest ważna?"
      ],
      "metadata": {
        "id": "6abwkZfQYkRU"
      }
    },
    {
      "cell_type": "markdown",
      "source": [
        "Normalizacja danych jest procesem organizacji danych w bazie danych w taki sposób, aby uniknąć powtórzeń i minimalizować niepożądane zmiany w strukturze bazy danych, co prowadzi do poprawy spójności danych."
      ],
      "metadata": {
        "id": "WlFuXug4YmL8"
      }
    },
    {
      "cell_type": "markdown",
      "source": [
        "###5. Jakie typy danych można przechowywać w SQL?"
      ],
      "metadata": {
        "id": "wy-s8bOLYpQs"
      }
    },
    {
      "cell_type": "markdown",
      "source": [
        "Typy danych w SQL mogą obejmować INTEGER, FLOAT, CHARACTER, VARCHAR, DATE, TIME, BOOLEAN, BLOB (Binary Large Object) i inne, w zależności od konkretnego systemu baz danych."
      ],
      "metadata": {
        "id": "Q6Hcl-ysYsDb"
      }
    },
    {
      "cell_type": "markdown",
      "source": [
        "#3. ***TRANSAKCJE I BEZPIECZEŃSTWO***"
      ],
      "metadata": {
        "id": "EA89lB3vybo-"
      }
    },
    {
      "cell_type": "markdown",
      "source": [
        "###1. Jakie są właściwości ACID w kontekście transakcji SQL?"
      ],
      "metadata": {
        "id": "ihjz5F_1yga2"
      }
    },
    {
      "cell_type": "markdown",
      "source": [
        "ACID to skrót od: Atomicity (atomowość), Consistency (spójność), Isolation (izolacja) i Durability (trwałość). Właściwości te zapewniają, że transakcje są niezawodne i bezpieczne.\n"
      ],
      "metadata": {
        "id": "yZ5sDw1tyo29"
      }
    },
    {
      "cell_type": "markdown",
      "source": [
        "###2. Co to jest transakcja w SQL? Jakie są jej właściwości ACID?"
      ],
      "metadata": {
        "id": "peWj7B3Gyus5"
      }
    },
    {
      "cell_type": "markdown",
      "source": [
        "Transakcja w SQL jest sekwencją operacji, która jest traktowana jako pojedyncza jednostka. Właściwości ACID zapewniają, że transakcje są niepodzielne, niezawodne i spójne."
      ],
      "metadata": {
        "id": "9u5H1QMFyy78"
      }
    },
    {
      "cell_type": "markdown",
      "source": [
        "###3. W jaki sposób możesz zabezpieczyć bazę danych SQL przed atakami SQL Injection?\n",
        "\n"
      ],
      "metadata": {
        "id": "ZlsKMWQPy0g_"
      }
    },
    {
      "cell_type": "markdown",
      "source": [
        "Można zabezpieczyć bazę danych SQL poprzez używanie parametryzowanych zapytań SQL, filtrowanie i walidację danych wejściowych oraz ograniczanie uprawnień użytkowników do minimalnego niezbędnego poziomu."
      ],
      "metadata": {
        "id": "0Z22JONcy3vg"
      }
    },
    {
      "cell_type": "markdown",
      "source": [
        "#4. ***ZAAWANSOWANE FUNKCJE I KONCEPTY***"
      ],
      "metadata": {
        "id": "S_f3Uut0zCwJ"
      }
    },
    {
      "cell_type": "markdown",
      "source": [
        "###1. Co to jest widok (view) w SQL? Jakie są jego zalety?"
      ],
      "metadata": {
        "id": "3bDRsF1_zJ9h"
      }
    },
    {
      "cell_type": "markdown",
      "source": [
        "Widok w SQL jest wirtualną tabelą, która jest wynikiem zapytania SELECT. Zalety widoków to uproszczone zapytania, ochrona danych i łatwiejszy dostęp do złożonych danych."
      ],
      "metadata": {
        "id": "I-RioGOpzN3s"
      }
    },
    {
      "cell_type": "markdown",
      "source": [
        "###2. Jakie są różnice między funkcjami skalarnej, agregującą i okienkową w SQL?"
      ],
      "metadata": {
        "id": "uIY5Z7zYzPYu"
      }
    },
    {
      "cell_type": "markdown",
      "source": [
        "Funkcje skalarne operują na każdym wierszu i zwracają pojedynczą wartość (np. LOWER(), UPPER()).\n",
        "\n",
        "Funkcje agregujące operują na zbiorze wierszy i zwracają jedną wartość dla całego zbioru (np. SUM(), AVG()).\n",
        "\n",
        "Funkcje okienkowe operują na zestawie wierszy, zachowując jednocześnie indywidualne wiersze (np. ROW_NUMBER(), RANK())."
      ],
      "metadata": {
        "id": "8FEVQle3zR2f"
      }
    },
    {
      "cell_type": "markdown",
      "source": [
        "###3. Co to jest procedura składowana (stored procedure) w SQL? Jakie są jej zalety?"
      ],
      "metadata": {
        "id": "LYtFAGEWzV-h"
      }
    },
    {
      "cell_type": "markdown",
      "source": [
        "Procedura składowana to zbiór instrukcji SQL, które są przechowywane w bazie danych i mogą być wielokrotnie wywoływane. Zalety to poprawa wydajności, ponowne użycie kodu i zwiększenie bezpieczeństwa."
      ],
      "metadata": {
        "id": "2NKH16_kzYRR"
      }
    },
    {
      "cell_type": "markdown",
      "source": [
        "###4. Jakie są różnice między kluczami głównymi (primary keys) a kluczami obcymi (foreign keys) w SQL?"
      ],
      "metadata": {
        "id": "1wfjqSNHzZwX"
      }
    },
    {
      "cell_type": "markdown",
      "source": [
        "Klucz główny to unikalny identyfikator dla każdego wiersza w tabeli, podczas gdy klucz obcy jest kluczem, który odwołuje się do klucza głównego w innej tabeli."
      ],
      "metadata": {
        "id": "FBux4yzzzbqw"
      }
    },
    {
      "cell_type": "markdown",
      "source": [
        "###5. Jakie są typy łączenia (join) w SQL?"
      ],
      "metadata": {
        "id": "sEWljUoSzdI8"
      }
    },
    {
      "cell_type": "markdown",
      "source": [
        "Typy łączenia w SQL to INNER JOIN, LEFT JOIN, RIGHT JOIN, FULL OUTER JOIN, SELF JOIN, NATURAL JOIN oraz CROSS JOIN."
      ],
      "metadata": {
        "id": "vs5JoCpzzg0-"
      }
    },
    {
      "cell_type": "markdown",
      "source": [
        "###6. Co to jest indeksowanie pełnotekstowe (full-text indexing) w SQL?"
      ],
      "metadata": {
        "id": "mkUFEjHuzj_i"
      }
    },
    {
      "cell_type": "markdown",
      "source": [
        "Indeksowanie pełnotekstowe to technika umożliwiająca szybkie wyszukiwanie i analizowanie tekstu w bazie danych, uwzględniająca słowa kluczowe i ich kontekst."
      ],
      "metadata": {
        "id": "E1eiLHbDznsP"
      }
    },
    {
      "cell_type": "markdown",
      "source": [
        "###7. Jakie są zalety i wady stosowania SQL Servera w porównaniu do innych systemów zarządzania bazami danych?"
      ],
      "metadata": {
        "id": "i0PzUOxXzpTG"
      }
    },
    {
      "cell_type": "markdown",
      "source": [
        "Zalety SQL Servera obejmują łatwość w zarządzaniu, dobre narzędzia administracyjne i wsparcie techniczne. Wady mogą obejmować koszty licencyjne i większe zużycie zasobów w porównaniu do innych rozwiązań open source."
      ],
      "metadata": {
        "id": "g94_x8jrzs7I"
      }
    },
    {
      "cell_type": "markdown",
      "source": [
        "#5. ***ZAAWANSOWANE ZAPYTANIA SQL***"
      ],
      "metadata": {
        "id": "s36xp3AC5ZEc"
      }
    },
    {
      "cell_type": "markdown",
      "source": [
        "#6. ***OPTYMALIZACJA I ZARZADZENIE BAZĄ DANYCH***"
      ],
      "metadata": {
        "id": "YqlxFPWh5c6R"
      }
    },
    {
      "cell_type": "markdown",
      "source": [
        "#7. ***BEZPIECZEŃSTWO I ZARZĄDZANIE DOSTĘPEM***"
      ],
      "metadata": {
        "id": "clD9oDh55hrK"
      }
    },
    {
      "cell_type": "markdown",
      "source": [
        "#8. ***DODATKOWE PYTANIA***"
      ],
      "metadata": {
        "id": "goFf3ECN5r0S"
      }
    },
    {
      "cell_type": "markdown",
      "source": [
        "#9. ***ZAAWANSOWANE OPERACJE SQL***"
      ],
      "metadata": {
        "id": "qz7hkS0254CJ"
      }
    },
    {
      "cell_type": "markdown",
      "source": [
        "#10. ***ADMINISTRACJA BAZĄ DANYCH***"
      ],
      "metadata": {
        "id": "QTPD-EXr6A_o"
      }
    },
    {
      "cell_type": "markdown",
      "source": [
        "#11 ***BEZPIECZEŃSTWO DANYCH I ZARZADZANIE UŻYTKOWNIKAMI***"
      ],
      "metadata": {
        "id": "kY73kgS46L5s"
      }
    },
    {
      "cell_type": "markdown",
      "source": [
        "#12. ***ZAAWANSOWANE TECHNIKI SQL***"
      ],
      "metadata": {
        "id": "rZrCT_7r6SqL"
      }
    }
  ]
}