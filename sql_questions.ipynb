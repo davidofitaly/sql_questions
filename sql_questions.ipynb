{
  "nbformat": 4,
  "nbformat_minor": 0,
  "metadata": {
    "colab": {
      "provenance": [],
      "authorship_tag": "ABX9TyMO6JeRuiZVd22SCO0ibtJX",
      "include_colab_link": true
    },
    "kernelspec": {
      "name": "python3",
      "display_name": "Python 3"
    },
    "language_info": {
      "name": "python"
    }
  },
  "cells": [
    {
      "cell_type": "markdown",
      "metadata": {
        "id": "view-in-github",
        "colab_type": "text"
      },
      "source": [
        "<a href=\"https://colab.research.google.com/github/davidofitaly/sql_questions/blob/main/sql_questions.ipynb\" target=\"_parent\"><img src=\"https://colab.research.google.com/assets/colab-badge.svg\" alt=\"Open In Colab\"/></a>"
      ]
    },
    {
      "cell_type": "markdown",
      "source": [
        "#1. ***PODSTAWOWE POJĘCIA SQL***"
      ],
      "metadata": {
        "id": "euKIiQOxMeHA"
      }
    },
    {
      "cell_type": "markdown",
      "source": [
        "###1. Co to jest SQL?"
      ],
      "metadata": {
        "id": "RmelSJ1kMi6h"
      }
    },
    {
      "cell_type": "markdown",
      "source": [
        "SQL (Structured Query Language) jest językiem programowania służącym do zarządzania danymi w relacyjnych systemach zarządzania bazami danych (RDBMS)."
      ],
      "metadata": {
        "id": "75YA0KPlMnbq"
      }
    },
    {
      "cell_type": "markdown",
      "source": [
        "###2. Co to jest baza danych?"
      ],
      "metadata": {
        "id": "6fpi2RdIMqrj"
      }
    },
    {
      "cell_type": "markdown",
      "source": [
        "Baza danych to zorganizowany zbiór danych, które są przechowywane i zarządzane w sposób umożliwiający łatwy dostęp, modyfikację i zarządzanie nimi."
      ],
      "metadata": {
        "id": "ZnUR56g7MtUG"
      }
    },
    {
      "cell_type": "markdown",
      "source": [
        "###3. Czym różni się baza danych SQL od bazy danych NoSQL?"
      ],
      "metadata": {
        "id": "m0mXyC_aXrXc"
      }
    },
    {
      "cell_type": "markdown",
      "source": [
        "Baza danych SQL jest relacyjną bazą danych, która przechowuje dane w tabelach z relacjami między nimi, natomiast baza danych NoSQL jest nierelacyjna i przechowuje dane w innych formatach, takich jak dokumenty, grafy, kolumny itp."
      ],
      "metadata": {
        "id": "p0jI1nnQXtCj"
      }
    },
    {
      "cell_type": "markdown",
      "source": [
        "###4. Co to jest klauzula WHERE w SQL? Jakie operatory logiczne można użyć w tej klauzuli?"
      ],
      "metadata": {
        "id": "9XdPEAUbXwCa"
      }
    },
    {
      "cell_type": "markdown",
      "source": [
        "Klauzula WHERE służy do filtrowania wyników zapytania na podstawie określonych warunków. Można w niej używać operatorów takich jak =, <> (różne od), >, <, >=, <=, BETWEEN, LIKE, IN, AND, OR, NOT."
      ],
      "metadata": {
        "id": "viFFo0D6X1JT"
      }
    },
    {
      "cell_type": "markdown",
      "source": [
        "###5. Co to jest indeks w bazie danych SQL? Jakie są jego zalety i wady?"
      ],
      "metadata": {
        "id": "5dgqpv7cX3HK"
      }
    },
    {
      "cell_type": "markdown",
      "source": [
        "Indeks w bazie danych SQL jest strukturą, która przyspiesza wyszukiwanie i sortowanie danych w tabeli poprzez tworzenie uporządkowanego zbioru wartości. Zalety to szybsze wyszukiwanie, wady to zwiększony rozmiar bazy danych i czas potrzebny na aktualizację indeksów przy modyfikacji danych."
      ],
      "metadata": {
        "id": "MQ_rdM4IX536"
      }
    },
    {
      "cell_type": "markdown",
      "source": [
        "###6. Jakie są typy danych numerycznych w SQL? Podaj przykłady."
      ],
      "metadata": {
        "id": "PA9nbGBfYDLv"
      }
    },
    {
      "cell_type": "markdown",
      "source": [
        "Typy danych numerycznych w SQL obejmują INTEGER, FLOAT, DECIMAL, NUMERIC, które mogą przechowywać liczby całkowite oraz liczby rzeczywiste z różnymi poziomami precyzji."
      ],
      "metadata": {
        "id": "kTILBVwsYGYc"
      }
    },
    {
      "cell_type": "markdown",
      "source": [
        "###7. Co to jest model relacyjny w kontekście baz danych?"
      ],
      "metadata": {
        "id": "YRwM9zMdYTFC"
      }
    },
    {
      "cell_type": "markdown",
      "source": [
        "Model relacyjny to sposób organizacji danych w bazie danych, gdzie dane są przechowywane w tabelach z relacjami między nimi, opartymi na kluczach głównych i obcych."
      ],
      "metadata": {
        "id": "6Fp-TlKSYrx7"
      }
    },
    {
      "cell_type": "markdown",
      "source": [
        "#2. ***ZAPYTANIA I OPERACJE***"
      ],
      "metadata": {
        "id": "jwmbxAR8YBP4"
      }
    },
    {
      "cell_type": "markdown",
      "source": [
        "###1. Wyjaśnij różnicę między INNER JOIN, LEFT JOIN i RIGHT JOIN."
      ],
      "metadata": {
        "id": "DGVLSw64YJql"
      }
    },
    {
      "cell_type": "markdown",
      "source": [
        "INNER JOIN zwraca tylko rekordy, które mają dopasowanie w obu tabelach.\n",
        "\n",
        "LEFT JOIN zwraca wszystkie rekordy z lewej tabeli oraz pasujące rekordy z prawej tabeli.\n",
        "\n",
        "RIGHT JOIN zwraca wszystkie rekordy z prawej tabeli oraz pasujące rekordy z lewej tabeli."
      ],
      "metadata": {
        "id": "l8UjRR5mYPNu"
      }
    },
    {
      "cell_type": "markdown",
      "source": [
        "###2. Jak używasz GROUP BY w zapytaniach SQL? Kiedy jest to użyteczne?"
      ],
      "metadata": {
        "id": "kMHR776wYUae"
      }
    },
    {
      "cell_type": "markdown",
      "source": [
        "GROUP BY jest używane do grupowania wyników na podstawie określonych kolumn. Jest to przydatne do obliczania agregatów (np. SUM, AVG) dla każdej grupy danych."
      ],
      "metadata": {
        "id": "DFMdJl8NYWSr"
      }
    },
    {
      "cell_type": "markdown",
      "source": [
        "###3. Jakie są funkcje agregujące w SQL? Podaj przykłady."
      ],
      "metadata": {
        "id": "kEL0jjZ0YcWg"
      }
    },
    {
      "cell_type": "markdown",
      "source": [
        "Funkcje agregujące w SQL to funkcje takie jak SUM, AVG, COUNT, MIN, MAX. Na przykład: SELECT SUM(column_name) FROM table_name;."
      ],
      "metadata": {
        "id": "s93kNz1UYfPG"
      }
    },
    {
      "cell_type": "markdown",
      "source": [
        "###4. Co to jest normalizacja danych i dlaczego jest ważna?"
      ],
      "metadata": {
        "id": "6abwkZfQYkRU"
      }
    },
    {
      "cell_type": "markdown",
      "source": [
        "Normalizacja danych jest procesem organizacji danych w bazie danych w taki sposób, aby uniknąć powtórzeń i minimalizować niepożądane zmiany w strukturze bazy danych, co prowadzi do poprawy spójności danych."
      ],
      "metadata": {
        "id": "WlFuXug4YmL8"
      }
    },
    {
      "cell_type": "markdown",
      "source": [
        "###5. Jakie typy danych można przechowywać w SQL?"
      ],
      "metadata": {
        "id": "wy-s8bOLYpQs"
      }
    },
    {
      "cell_type": "markdown",
      "source": [
        "Typy danych w SQL mogą obejmować INTEGER, FLOAT, CHARACTER, VARCHAR, DATE, TIME, BOOLEAN, BLOB (Binary Large Object) i inne, w zależności od konkretnego systemu baz danych."
      ],
      "metadata": {
        "id": "Q6Hcl-ysYsDb"
      }
    },
    {
      "cell_type": "markdown",
      "source": [
        "###6. Jakie są różnice między złączeniem INNER JOIN a OUTER JOIN?"
      ],
      "metadata": {
        "id": "xHc8ZeF_WkOq"
      }
    },
    {
      "cell_type": "markdown",
      "source": [
        "INNER JOIN zwraca tylko rekordy, które mają dopasowanie w obu tabelach, natomiast OUTER JOIN zwraca również rekordy, które nie mają dopasowania w jednej z tabel."
      ],
      "metadata": {
        "id": "tg1xoZ-_Wp1h"
      }
    },
    {
      "cell_type": "markdown",
      "source": [
        "###7. Jakie są różnice między DELETE a TRUNCATE w SQL?"
      ],
      "metadata": {
        "id": "zC-FyOUMXFg1"
      }
    },
    {
      "cell_type": "markdown",
      "source": [
        "DELETE jest operacją, która usuwa wybrane wiersze z tabeli, przy czym można ją wycofać (rollback), natomiast TRUNCATE usuwa wszystkie wiersze z tabeli, bez możliwości wycofania zmian (rollback)."
      ],
      "metadata": {
        "id": "LQMMNQQTXIm1"
      }
    },
    {
      "cell_type": "markdown",
      "source": [
        "###8. Jakie są różnice między HAVING a WHERE w SQL?"
      ],
      "metadata": {
        "id": "MunFdvelXgok"
      }
    },
    {
      "cell_type": "markdown",
      "source": [
        "WHERE jest używane do filtrowania wyników przed grupowaniem, natomiast HAVING jest używane do filtrowania wyników po grupowaniu na podstawie kryteriów agregatów (np. SUM, AVG)."
      ],
      "metadata": {
        "id": "8yjTGnwXXjuU"
      }
    },
    {
      "cell_type": "markdown",
      "source": [
        "#3. ***TRANSAKCJE I BEZPIECZEŃSTWO***"
      ],
      "metadata": {
        "id": "EA89lB3vybo-"
      }
    },
    {
      "cell_type": "markdown",
      "source": [
        "###1. Jakie są właściwości ACID w kontekście transakcji SQL?"
      ],
      "metadata": {
        "id": "ihjz5F_1yga2"
      }
    },
    {
      "cell_type": "markdown",
      "source": [
        "ACID to skrót od: Atomicity (atomowość), Consistency (spójność), Isolation (izolacja) i Durability (trwałość). Właściwości te zapewniają, że transakcje są niezawodne i bezpieczne.\n"
      ],
      "metadata": {
        "id": "yZ5sDw1tyo29"
      }
    },
    {
      "cell_type": "markdown",
      "source": [
        "###2. Co to jest transakcja w SQL? Jakie są jej właściwości ACID?"
      ],
      "metadata": {
        "id": "peWj7B3Gyus5"
      }
    },
    {
      "cell_type": "markdown",
      "source": [
        "Transakcja w SQL jest sekwencją operacji, która jest traktowana jako pojedyncza jednostka. Właściwości ACID zapewniają, że transakcje są niepodzielne, niezawodne i spójne."
      ],
      "metadata": {
        "id": "9u5H1QMFyy78"
      }
    },
    {
      "cell_type": "markdown",
      "source": [
        "###3. W jaki sposób możesz zabezpieczyć bazę danych SQL przed atakami SQL Injection?\n",
        "\n"
      ],
      "metadata": {
        "id": "ZlsKMWQPy0g_"
      }
    },
    {
      "cell_type": "markdown",
      "source": [
        "Można zabezpieczyć bazę danych SQL poprzez używanie parametryzowanych zapytań SQL, filtrowanie i walidację danych wejściowych oraz ograniczanie uprawnień użytkowników do minimalnego niezbędnego poziomu."
      ],
      "metadata": {
        "id": "0Z22JONcy3vg"
      }
    },
    {
      "cell_type": "markdown",
      "source": [
        "###4. Co to jest transakcja wielostopniowa (nested transaction) w SQL?"
      ],
      "metadata": {
        "id": "HlViuovtX4uU"
      }
    },
    {
      "cell_type": "markdown",
      "source": [
        "Transakcja wielostopniowa w SQL jest zagnieżdżoną transakcją, w której jedna transakcja może zawierać inne transakcje wewnątrz siebie. Każda zagnieżdżona transakcja jest traktowana jako część głównej transakcji."
      ],
      "metadata": {
        "id": "TjGfF9djX76h"
      }
    },
    {
      "cell_type": "markdown",
      "source": [
        "#4. ***ZAAWANSOWANE FUNKCJE I KONCEPTY***"
      ],
      "metadata": {
        "id": "S_f3Uut0zCwJ"
      }
    },
    {
      "cell_type": "markdown",
      "source": [
        "###1. Co to jest widok (view) w SQL? Jakie są jego zalety?"
      ],
      "metadata": {
        "id": "3bDRsF1_zJ9h"
      }
    },
    {
      "cell_type": "markdown",
      "source": [
        "Widok w SQL jest wirtualną tabelą, która jest wynikiem zapytania SELECT. Zalety widoków to uproszczone zapytania, ochrona danych i łatwiejszy dostęp do złożonych danych."
      ],
      "metadata": {
        "id": "I-RioGOpzN3s"
      }
    },
    {
      "cell_type": "markdown",
      "source": [
        "###2. Jakie są różnice między funkcjami skalarnej, agregującą i okienkową w SQL?"
      ],
      "metadata": {
        "id": "uIY5Z7zYzPYu"
      }
    },
    {
      "cell_type": "markdown",
      "source": [
        "Funkcje skalarne operują na każdym wierszu i zwracają pojedynczą wartość (np. LOWER(), UPPER()).\n",
        "\n",
        "Funkcje agregujące operują na zbiorze wierszy i zwracają jedną wartość dla całego zbioru (np. SUM(), AVG()).\n",
        "\n",
        "Funkcje okienkowe operują na zestawie wierszy, zachowując jednocześnie indywidualne wiersze (np. ROW_NUMBER(), RANK())."
      ],
      "metadata": {
        "id": "8FEVQle3zR2f"
      }
    },
    {
      "cell_type": "markdown",
      "source": [
        "###3. Co to jest procedura składowana (stored procedure) w SQL? Jakie są jej zalety?"
      ],
      "metadata": {
        "id": "LYtFAGEWzV-h"
      }
    },
    {
      "cell_type": "markdown",
      "source": [
        "Procedura składowana to zbiór instrukcji SQL, które są przechowywane w bazie danych i mogą być wielokrotnie wywoływane. Zalety to poprawa wydajności, ponowne użycie kodu i zwiększenie bezpieczeństwa."
      ],
      "metadata": {
        "id": "2NKH16_kzYRR"
      }
    },
    {
      "cell_type": "markdown",
      "source": [
        "###4. Jakie są różnice między kluczami głównymi (primary keys) a kluczami obcymi (foreign keys) w SQL?"
      ],
      "metadata": {
        "id": "1wfjqSNHzZwX"
      }
    },
    {
      "cell_type": "markdown",
      "source": [
        "Klucz główny to unikalny identyfikator dla każdego wiersza w tabeli, podczas gdy klucz obcy jest kluczem, który odwołuje się do klucza głównego w innej tabeli."
      ],
      "metadata": {
        "id": "FBux4yzzzbqw"
      }
    },
    {
      "cell_type": "markdown",
      "source": [
        "###5. Co to jest złączenie (join) w SQL? Jakie są różne rodzaje złączeń?"
      ],
      "metadata": {
        "id": "sEWljUoSzdI8"
      }
    },
    {
      "cell_type": "markdown",
      "source": [
        "Złączenie w SQL to operacja łączenia danych z dwóch lub więcej tabel na podstawie określonych warunków. Typy łączenia w SQL to INNER JOIN, LEFT JOIN, RIGHT JOIN, FULL OUTER JOIN, SELF JOIN, NATURAL JOIN oraz CROSS JOIN."
      ],
      "metadata": {
        "id": "vs5JoCpzzg0-"
      }
    },
    {
      "cell_type": "markdown",
      "source": [
        "###6. Co to jest indeksowanie pełnotekstowe (full-text indexing) w SQL?"
      ],
      "metadata": {
        "id": "mkUFEjHuzj_i"
      }
    },
    {
      "cell_type": "markdown",
      "source": [
        "Indeksowanie pełnotekstowe to technika umożliwiająca szybkie wyszukiwanie i analizowanie tekstu w bazie danych, uwzględniająca słowa kluczowe i ich kontekst."
      ],
      "metadata": {
        "id": "E1eiLHbDznsP"
      }
    },
    {
      "cell_type": "markdown",
      "source": [
        "###7. Jakie są zalety i wady stosowania SQL Servera w porównaniu do innych systemów zarządzania bazami danych?"
      ],
      "metadata": {
        "id": "i0PzUOxXzpTG"
      }
    },
    {
      "cell_type": "markdown",
      "source": [
        "Zalety SQL Servera obejmują łatwość w zarządzaniu, dobre narzędzia administracyjne i wsparcie techniczne. Wady mogą obejmować koszty licencyjne i większe zużycie zasobów w porównaniu do innych rozwiązań open source."
      ],
      "metadata": {
        "id": "g94_x8jrzs7I"
      }
    },
    {
      "cell_type": "markdown",
      "source": [
        "#5. ***ZAAWANSOWANE ZAPYTANIA SQL***"
      ],
      "metadata": {
        "id": "s36xp3AC5ZEc"
      }
    },
    {
      "cell_type": "markdown",
      "source": [
        "###1. Co to jest subkwerenda (subquery) w SQL? Jakie są jej rodzaje?"
      ],
      "metadata": {
        "id": "REkVW6I9raeO"
      }
    },
    {
      "cell_type": "markdown",
      "source": [
        "Subkwerenda w SQL to zagnieżdżone zapytanie wewnątrz głównego zapytania. Rodzaje subkwerend to subkwerenda skalarna, subkwerenda zwracająca pojedynczą wartość, subkwerenda zwracająca zestaw wyników."
      ],
      "metadata": {
        "id": "MTIlcUBTrdQ8"
      }
    },
    {
      "cell_type": "markdown",
      "source": [
        "###2. Jakie są różnice między UNION a UNION ALL w SQL?"
      ],
      "metadata": {
        "id": "3fI02Kesrh6m"
      }
    },
    {
      "cell_type": "markdown",
      "source": [
        "UNION usuwa duplikaty z wyników, natomiast UNION ALL zwraca wszystkie wyniki, łącznie z powtórzeniami."
      ],
      "metadata": {
        "id": "03Jo_xcUrlnW"
      }
    },
    {
      "cell_type": "markdown",
      "source": [
        "###3. Co to jest okno (window) w kontekście funkcji okienkowych (window functions) w SQL?"
      ],
      "metadata": {
        "id": "XLnE5gELrq2U"
      }
    },
    {
      "cell_type": "markdown",
      "source": [
        "Okno w funkcjach okienkowych to zestaw wierszy, na którym funkcja jest obliczana. Okno definiowane jest za pomocą OVER i określa, jak dane są grupowane i sortowane."
      ],
      "metadata": {
        "id": "YRPqcpE6rxUY"
      }
    },
    {
      "cell_type": "markdown",
      "source": [
        "###4. Jakie są funkcje okienkowe w SQL? Podaj przykłady."
      ],
      "metadata": {
        "id": "URKVRJ6lr2Wh"
      }
    },
    {
      "cell_type": "markdown",
      "source": [
        "Funkcje okienkowe w SQL to ROW_NUMBER(), RANK(), DENSE_RANK(), LEAD(), LAG(), które pozwalają na operowanie na zestawie wierszy w obrębie określonego okna."
      ],
      "metadata": {
        "id": "p47VMHhtr3rC"
      }
    },
    {
      "cell_type": "markdown",
      "source": [
        "###5. Co to jest CTE (Common Table Expression) w SQL? Jakie są jej zalety?"
      ],
      "metadata": {
        "id": "rmpcTDInr9HW"
      }
    },
    {
      "cell_type": "markdown",
      "source": [
        "CTE w SQL jest tymczasowym wynikiem zapytania, które można wykorzystać w kolejnym zapytaniu SELECT. Zalety CTE to poprawa czytelności zapytań i możliwość wielokrotnego wykorzystania tego samego wyniku."
      ],
      "metadata": {
        "id": "1asrrLShr-c5"
      }
    },
    {
      "cell_type": "markdown",
      "source": [
        "#6. ***OPTYMALIZACJA I ZARZADZENIE BAZĄ DANYCH***"
      ],
      "metadata": {
        "id": "YqlxFPWh5c6R"
      }
    },
    {
      "cell_type": "markdown",
      "source": [
        "###1. Co to jest normalizacja danych w kontekście relacyjnych baz danych? Jakie są różne formy normalizacji?"
      ],
      "metadata": {
        "id": "M0BHkYhssJkw"
      }
    },
    {
      "cell_type": "markdown",
      "source": [
        "Normalizacja danych w relacyjnych bazach danych to proces organizacji danych w celu eliminacji powtórzeń i zwiększenia spójności. Formy normalizacji to m.in. pierwsza, druga i trzecia forma normalna (1NF, 2NF, 3NF)."
      ],
      "metadata": {
        "id": "c-38UrC4sLVI"
      }
    },
    {
      "cell_type": "markdown",
      "source": [
        "###2. Co to jest denormalizacja danych i kiedy jest stosowana?"
      ],
      "metadata": {
        "id": "uDHPbs-psQyc"
      }
    },
    {
      "cell_type": "markdown",
      "source": [
        "Denormalizacja danych to proces dodawania powiązań między tabelami w celu zwiększenia wydajności zapytań poprzez ograniczenie liczby tabel i łączeń. Jest stosowana w przypadkach, gdy wymagana jest szybka odpowiedź na zapytania."
      ],
      "metadata": {
        "id": "ZO_f2SHqsR48"
      }
    },
    {
      "cell_type": "markdown",
      "source": [
        "###3. Jakie są techniki optymalizacji zapytań SQL?"
      ],
      "metadata": {
        "id": "w1UksWP7sTvB"
      }
    },
    {
      "cell_type": "markdown",
      "source": [
        "Techniki optymalizacji zapytań SQL obejmują stosowanie indeksów, unikanie zagnieżdżonych zapytań, używanie odpowiednich funkcji agregujących i okienkowych oraz optymalizację struktury tabel."
      ],
      "metadata": {
        "id": "90CN6QpAsYQx"
      }
    },
    {
      "cell_type": "markdown",
      "source": [
        "#7. ***BEZPIECZEŃSTWO I ZARZĄDZANIE DOSTĘPEM***"
      ],
      "metadata": {
        "id": "clD9oDh55hrK"
      }
    },
    {
      "cell_type": "markdown",
      "source": [
        "###1. Jakie są podstawowe zasady zarządzania dostępem do baz danych SQL?"
      ],
      "metadata": {
        "id": "Rl1nzt4Xsgot"
      }
    },
    {
      "cell_type": "markdown",
      "source": [
        "Podstawowe zasady zarządzania dostępem to zasada najmniejszych uprawnień (least privilege), uwierzytelnianie i autoryzacja, szyfrowanie danych, audytowanie dostępu."
      ],
      "metadata": {
        "id": "59LfyHsOsilU"
      }
    },
    {
      "cell_type": "markdown",
      "source": [
        "###2. Jakie są zagrożenia związane z bezpieczeństwem baz danych SQL?"
      ],
      "metadata": {
        "id": "zFaRvT7vsjWZ"
      }
    },
    {
      "cell_type": "markdown",
      "source": [
        "Zagrożenia obejmują ataki SQL Injection, kradzież tożsamości, dostęp nieautoryzowany, utratę danych, nieaktualizowane oprogramowanie i braki w polityce bezpieczeństwa."
      ],
      "metadata": {
        "id": "jn3GtRudsmOf"
      }
    },
    {
      "cell_type": "markdown",
      "source": [
        "#8. ***DODATKOWE PYTANIA***"
      ],
      "metadata": {
        "id": "goFf3ECN5r0S"
      }
    },
    {
      "cell_type": "markdown",
      "source": [
        "#9. ***ZAAWANSOWANE OPERACJE SQL***"
      ],
      "metadata": {
        "id": "qz7hkS0254CJ"
      }
    },
    {
      "cell_type": "markdown",
      "source": [
        "#10. ***ADMINISTRACJA BAZĄ DANYCH***"
      ],
      "metadata": {
        "id": "QTPD-EXr6A_o"
      }
    },
    {
      "cell_type": "markdown",
      "source": [
        "#11 ***BEZPIECZEŃSTWO DANYCH I ZARZADZANIE UŻYTKOWNIKAMI***"
      ],
      "metadata": {
        "id": "kY73kgS46L5s"
      }
    },
    {
      "cell_type": "markdown",
      "source": [
        "#12. ***ZAAWANSOWANE TECHNIKI SQL***"
      ],
      "metadata": {
        "id": "rZrCT_7r6SqL"
      }
    }
  ]
}